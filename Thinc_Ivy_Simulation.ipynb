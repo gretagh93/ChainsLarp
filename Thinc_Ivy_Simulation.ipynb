{
  "nbformat": 4,
  "nbformat_minor": 0,
  "metadata": {
    "colab": {
      "provenance": [],
      "authorship_tag": "ABX9TyMJzL3ObUgyJosamAkVc9+2",
      "include_colab_link": true
    },
    "kernelspec": {
      "name": "python3",
      "display_name": "Python 3"
    },
    "language_info": {
      "name": "python"
    }
  },
  "cells": [
    {
      "cell_type": "markdown",
      "metadata": {
        "id": "view-in-github",
        "colab_type": "text"
      },
      "source": [
        "<a href=\"https://colab.research.google.com/github/gretagh93/ChainsLarp/blob/master/Thinc_Ivy_Simulation.ipynb\" target=\"_parent\"><img src=\"https://colab.research.google.com/assets/colab-badge.svg\" alt=\"Open In Colab\"/></a>"
      ]
    },
    {
      "cell_type": "markdown",
      "source": [
        "# Thinc - Ivy - Simulation"
      ],
      "metadata": {
        "id": "XLUvllrq6ivV"
      }
    },
    {
      "cell_type": "markdown",
      "source": [
        "For this POC I would like to simulate the Ivy's implementation of the function min() in Thinc"
      ],
      "metadata": {
        "id": "0sjamPAv6vYb"
      }
    },
    {
      "cell_type": "code",
      "execution_count": null,
      "metadata": {
        "id": "1cHBOJD738c3"
      },
      "outputs": [],
      "source": [
        "!pip install \"thinc>=8.0.0\" \"ml_datasets>=0.2.0\" \"tqdm>=4.41\"\n",
        "!pip install git+https://github.com/unifyai/ivy.git"
      ]
    },
    {
      "cell_type": "code",
      "source": [
        "import thinc.util\n",
        "# If you want to try out the PyTorch integration, you'll need to install it.\n",
        "if not thinc.util.has_torch:\n",
        "    !pip install \"torch\"\n",
        "\n",
        "import thinc.util\n",
        "# If you want to run this notebook on GPU, you'll need to install cupy.\n",
        "if not thinc.util.has_cupy:\n",
        "    !pip install \"cupy-cuda101\""
      ],
      "metadata": {
        "colab": {
          "base_uri": "https://localhost:8080/"
        },
        "id": "dbiV_A5h4MtT",
        "outputId": "4438247f-a6dc-4648-ca8d-6e6747438570"
      },
      "execution_count": 2,
      "outputs": [
        {
          "output_type": "stream",
          "name": "stderr",
          "text": [
            "/usr/local/lib/python3.9/dist-packages/torch/cuda/__init__.py:546: UserWarning: Can't initialize NVML\n",
            "  warnings.warn(\"Can't initialize NVML\")\n"
          ]
        },
        {
          "output_type": "stream",
          "name": "stdout",
          "text": [
            "Looking in indexes: https://pypi.org/simple, https://us-python.pkg.dev/colab-wheels/public/simple/\n",
            "Collecting cupy-cuda101\n",
            "  Downloading cupy_cuda101-9.6.0-cp39-cp39-manylinux1_x86_64.whl (61.1 MB)\n",
            "\u001b[2K     \u001b[90m━━━━━━━━━━━━━━━━━━━━━━━━━━━━━━━━━━━━━━━━\u001b[0m \u001b[32m61.1/61.1 MB\u001b[0m \u001b[31m10.4 MB/s\u001b[0m eta \u001b[36m0:00:00\u001b[0m\n",
            "\u001b[?25hRequirement already satisfied: fastrlock>=0.5 in /usr/local/lib/python3.9/dist-packages (from cupy-cuda101) (0.8.1)\n",
            "Requirement already satisfied: numpy<1.24,>=1.17 in /usr/local/lib/python3.9/dist-packages (from cupy-cuda101) (1.22.4)\n",
            "Installing collected packages: cupy-cuda101\n",
            "Successfully installed cupy-cuda101-9.6.0\n"
          ]
        }
      ]
    },
    {
      "cell_type": "code",
      "source": [
        "import ivy\n",
        "import torch\n",
        "import tensorflow as tf"
      ],
      "metadata": {
        "id": "lA1sqdJG4g4T"
      },
      "execution_count": 24,
      "outputs": []
    },
    {
      "cell_type": "markdown",
      "source": [
        "I will use several of Ivy's backends to demonstrate the different functions of the Backend Handler, in specific:\n",
        "\n",
        "*   unset_backend()\n",
        "*   current_backend()\n",
        "*   set_backend()"
      ],
      "metadata": {
        "id": "r_vJJsqP7rTL"
      }
    },
    {
      "cell_type": "code",
      "source": [
        "# No backend\n",
        "ivy.unset_backend()\n",
        "backend = ivy.current_backend()\n",
        "print(backend)\n",
        "\n",
        "x = ivy.array([5, 2, 3])\n",
        "z = ivy.min(x)\n",
        "print(z)"
      ],
      "metadata": {
        "colab": {
          "base_uri": "https://localhost:8080/"
        },
        "id": "oalXQiu47qon",
        "outputId": "265d15e8-4355-46ec-d1d7-1257aef32114"
      },
      "execution_count": 19,
      "outputs": [
        {
          "output_type": "stream",
          "name": "stdout",
          "text": [
            "<module 'ivy.functional.backends.numpy' from '/usr/local/lib/python3.9/dist-packages/ivy/functional/backends/numpy/__init__.py'>\n",
            "ivy.array(2)\n"
          ]
        }
      ]
    },
    {
      "cell_type": "code",
      "source": [
        "# PyTorch backend\n",
        "ivy.set_backend('torch')\n",
        "backend = ivy.current_backend()\n",
        "print(backend)\n",
        "\n",
        "x = ivy.array([5, 2, 3])\n",
        "z = ivy.min(x)\n",
        "print(z)"
      ],
      "metadata": {
        "colab": {
          "base_uri": "https://localhost:8080/"
        },
        "id": "RQS-Ga5K9DZ3",
        "outputId": "8160d60a-f5f9-4041-d5cd-a3970bdb028d"
      },
      "execution_count": 20,
      "outputs": [
        {
          "output_type": "stream",
          "name": "stdout",
          "text": [
            "<module 'ivy.functional.backends.torch' from '/usr/local/lib/python3.9/dist-packages/ivy/functional/backends/torch/__init__.py'>\n",
            "ivy.array(2)\n"
          ]
        }
      ]
    },
    {
      "cell_type": "code",
      "source": [
        "# TensorFlow backend\n",
        "ivy.set_backend('tensorflow')\n",
        "backend = ivy.current_backend()\n",
        "print(backend)\n",
        "\n",
        "x = ivy.array([5, 2, 3])\n",
        "z = ivy.min(x)\n",
        "print(z)"
      ],
      "metadata": {
        "colab": {
          "base_uri": "https://localhost:8080/"
        },
        "id": "io9w2ibd-D4D",
        "outputId": "b4423f4b-9377-477c-aa47-d42313e00b20"
      },
      "execution_count": 22,
      "outputs": [
        {
          "output_type": "stream",
          "name": "stdout",
          "text": [
            "<module 'ivy.functional.backends.tensorflow' from '/usr/local/lib/python3.9/dist-packages/ivy/functional/backends/tensorflow/__init__.py'>\n",
            "ivy.array(2)\n"
          ]
        }
      ]
    },
    {
      "cell_type": "markdown",
      "source": [
        "## Simulation\n",
        "\n"
      ],
      "metadata": {
        "id": "62R-Ab5y71_z"
      }
    },
    {
      "cell_type": "markdown",
      "source": [
        "To do the simulation we need to explore the code of min() function in:\n",
        "\n",
        "\n",
        "*   [Ivy functional API](https://github.com/unifyai/ivy/blob/master/ivy/functional/ivy/statistical.py)\n",
        "*   [TensorFlow](https://github.com/unifyai/ivy/blob/master/ivy/functional/backends/tensorflow/statistical.py) and [PyTorch](https://github.com/unifyai/ivy/blob/master/ivy/functional/backends/torch/statistical.py) specific backend of Backend Functional API\n"
      ],
      "metadata": {
        "id": "YonTu4m7EZ4j"
      }
    },
    {
      "cell_type": "markdown",
      "source": [
        "TensorFlow specific backend"
      ],
      "metadata": {
        "id": "M7LauoYAHeHI"
      }
    },
    {
      "cell_type": "code",
      "source": [
        "def min(\n",
        "    x: ivy.Union[tf.Tensor, tf.Variable],\n",
        "    /,\n",
        "    *,\n",
        "    axis: ivy.Optional[ivy.Union[int, ivy.Sequence[int]]] = None,\n",
        "    keepdims: bool = False,\n",
        "    out: ivy.Optional[ivy.Union[tf.Tensor, tf.Variable]] = None,\n",
        ") -> ivy.Union[tf.Tensor, tf.Variable]:\n",
        "    axis = tuple(axis) if isinstance(axis, list) else axis\n",
        "    return tf.math.reduce_min(x, axis=axis, keepdims=keepdims)"
      ],
      "metadata": {
        "colab": {
          "base_uri": "https://localhost:8080/",
          "height": 244
        },
        "id": "mx8hh1CNHlo_",
        "outputId": "8cde60de-4a5e-4b47-adf3-8096189cd8c3"
      },
      "execution_count": 25,
      "outputs": [
        {
          "output_type": "error",
          "ename": "AttributeError",
          "evalue": "ignored",
          "traceback": [
            "\u001b[0;31m---------------------------------------------------------------------------\u001b[0m",
            "\u001b[0;31mAttributeError\u001b[0m                            Traceback (most recent call last)",
            "\u001b[0;32m<ipython-input-25-a95e25aea3bb>\u001b[0m in \u001b[0;36m<cell line: 5>\u001b[0;34m()\u001b[0m\n\u001b[1;32m      3\u001b[0m     \u001b[0;34m/\u001b[0m\u001b[0;34m,\u001b[0m\u001b[0;34m\u001b[0m\u001b[0;34m\u001b[0m\u001b[0m\n\u001b[1;32m      4\u001b[0m     \u001b[0;34m*\u001b[0m\u001b[0;34m,\u001b[0m\u001b[0;34m\u001b[0m\u001b[0;34m\u001b[0m\u001b[0m\n\u001b[0;32m----> 5\u001b[0;31m     \u001b[0maxis\u001b[0m\u001b[0;34m:\u001b[0m \u001b[0mivy\u001b[0m\u001b[0;34m.\u001b[0m\u001b[0mOptional\u001b[0m\u001b[0;34m[\u001b[0m\u001b[0mivy\u001b[0m\u001b[0;34m.\u001b[0m\u001b[0mUnion\u001b[0m\u001b[0;34m[\u001b[0m\u001b[0mint\u001b[0m\u001b[0;34m,\u001b[0m \u001b[0mivy\u001b[0m\u001b[0;34m.\u001b[0m\u001b[0mSequence\u001b[0m\u001b[0;34m[\u001b[0m\u001b[0mint\u001b[0m\u001b[0;34m]\u001b[0m\u001b[0;34m]\u001b[0m\u001b[0;34m]\u001b[0m \u001b[0;34m=\u001b[0m \u001b[0;32mNone\u001b[0m\u001b[0;34m,\u001b[0m\u001b[0;34m\u001b[0m\u001b[0;34m\u001b[0m\u001b[0m\n\u001b[0m\u001b[1;32m      6\u001b[0m     \u001b[0mkeepdims\u001b[0m\u001b[0;34m:\u001b[0m \u001b[0mbool\u001b[0m \u001b[0;34m=\u001b[0m \u001b[0;32mFalse\u001b[0m\u001b[0;34m,\u001b[0m\u001b[0;34m\u001b[0m\u001b[0;34m\u001b[0m\u001b[0m\n\u001b[1;32m      7\u001b[0m     \u001b[0mout\u001b[0m\u001b[0;34m:\u001b[0m \u001b[0mivy\u001b[0m\u001b[0;34m.\u001b[0m\u001b[0mOptional\u001b[0m\u001b[0;34m[\u001b[0m\u001b[0mivy\u001b[0m\u001b[0;34m.\u001b[0m\u001b[0mUnion\u001b[0m\u001b[0;34m[\u001b[0m\u001b[0mtf\u001b[0m\u001b[0;34m.\u001b[0m\u001b[0mTensor\u001b[0m\u001b[0;34m,\u001b[0m \u001b[0mtf\u001b[0m\u001b[0;34m.\u001b[0m\u001b[0mVariable\u001b[0m\u001b[0;34m]\u001b[0m\u001b[0;34m]\u001b[0m \u001b[0;34m=\u001b[0m \u001b[0;32mNone\u001b[0m\u001b[0;34m,\u001b[0m\u001b[0;34m\u001b[0m\u001b[0;34m\u001b[0m\u001b[0m\n",
            "\u001b[0;31mAttributeError\u001b[0m: module 'ivy.functional.backends.tensorflow' has no attribute 'Sequence'"
          ]
        }
      ]
    },
    {
      "cell_type": "markdown",
      "source": [
        "PyTorch specific backend"
      ],
      "metadata": {
        "id": "STFlampVHmMj"
      }
    },
    {
      "cell_type": "code",
      "source": [
        "def min(\n",
        "    x: torch.Tensor,\n",
        "    /,\n",
        "    *,\n",
        "    axis: ivy.Optional[ivy.Union[int, ivy.Sequence[int]]] = None,\n",
        "    keepdims: bool = False,\n",
        "    out: ivy.Optional[torch.Tensor] = None,\n",
        ") -> torch.Tensor:\n",
        "    if axis == ():\n",
        "        if ivy.exists(out):\n",
        "            return ivy.inplace_update(out, x)\n",
        "        else:\n",
        "            return x\n",
        "    if not keepdims and not axis and axis != 0:\n",
        "        return torch.amin(input=x, out=out)\n",
        "    return torch.amin(input=x, dim=axis, keepdim=keepdims, out=out)\n",
        "\n",
        "\n",
        "min.support_native_out = True"
      ],
      "metadata": {
        "id": "HPjDSgdGHtgD"
      },
      "execution_count": null,
      "outputs": []
    },
    {
      "cell_type": "markdown",
      "source": [
        "Ivy functional API function"
      ],
      "metadata": {
        "id": "gzlrXhUA8Hri"
      }
    },
    {
      "cell_type": "code",
      "source": [
        "def min(\n",
        "    x: ivy.Union[ivy.Array, ivy.NativeArray],\n",
        "    /,\n",
        "    *,\n",
        "    axis: ivy.Optional[ivy.Union[int, ivy.Sequence[int]]] = None,\n",
        "    keepdims: bool = False,\n",
        "    out: ivy.Optional[ivy.Array] = None,\n",
        ") -> ivy.Array:\n",
        "    \"\"\"Calculates the minimum value of the input array ``x``.\n",
        "\n",
        "    .. note::\n",
        "       When the number of elements over which to compute the minimum value is zero, the\n",
        "       minimum value is implementation-defined. Specification-compliant libraries may\n",
        "       choose to raise an error, return a sentinel value (e.g., if ``x`` is a floating-point\n",
        "       input array, return ``NaN``), or return the maximum possible value for the input array ``x``\n",
        "       data type (e.g., if ``x`` is a floating-point array, return ``+infinity``).\n",
        "\n",
        "    **Special Cases**\n",
        "\n",
        "    For floating-point operands,\n",
        "\n",
        "    -   If ``x_i`` is ``NaN``, the minimum value is ``NaN`` (i.e., ``NaN`` values propagate).\n",
        "\n",
        "    Parameters\n",
        "    ----------\n",
        "    x\n",
        "        Input array. Should have a real-valued data type.\n",
        "    axis\n",
        "        axis or axes along which minimum values must be computed. By default, the\n",
        "        minimum value must be computed over the entire array. If a tuple of integers,\n",
        "        minimum values must be computed over multiple axes. Default: ``None``.\n",
        "\n",
        "    keepdims\n",
        "        optional boolean, if ``True``, the reduced axes (dimensions) must be included in the\n",
        "        result as singleton dimensions, and, accordingly, the result must be compatible\n",
        "        with the input array (see :ref:`broadcasting`). Otherwise, if ``False``, the reduced axes\n",
        "        (dimensions) must not be included in the result. Default: ``False``.\n",
        "    out\n",
        "        optional output array, for writing the result to.\n",
        "\n",
        "    Returns\n",
        "    -------\n",
        "    ret\n",
        "        if the minimum value was computed over the entire array, a zero-dimensional\n",
        "        array containing the minimum value; otherwise, a non-zero-dimensional array\n",
        "        containing the minimum values. The returned array must have the same data type\n",
        "        as ``x``.\n",
        "\n",
        "\n",
        "    This function conforms to the `Array API Standard\n",
        "    <https://data-apis.org/array-api/latest/>`_. This docstring is an extension of the\n",
        "    `docstring <https://data-apis.org/array-api/latest/API_specification/generated/signatures.statistical_functions.min.html>`_  # noqa\n",
        "    in the standard.\n",
        "\n",
        "    Both the description and the type hints above assumes an array input for simplicity,\n",
        "    but this function is *nestable*, and therefore also accepts :class:`ivy.Container`\n",
        "    instances in place of any of the arguments.\n",
        "\n",
        "    Examples\n",
        "    --------\n",
        "    With :class:`ivy.Array` input:\n",
        "\n",
        "    >>> x = ivy.array([1, 2, 3])\n",
        "    >>> z = ivy.min(x)\n",
        "    >>> print(z)\n",
        "    ivy.array(1)\n",
        "\n",
        "    >>> x = ivy.array([0, 1, 2])\n",
        "    >>> z = ivy.array([0, 0, 0])\n",
        "    >>> y = ivy.min(x, out=z)\n",
        "    >>> print(z)\n",
        "    ivy.array(0)\n",
        "\n",
        "    >>> x = ivy.array([[0, 1, 2], [4, 6, 10]])\n",
        "    >>> y = ivy.min(x, axis=0, keepdims=True)\n",
        "    >>> print(y)\n",
        "    ivy.array([[0, 1, 2]])\n",
        "\n",
        "    >>> x = ivy.native_array([[0, 1, 2], [4, 6, 10]])\n",
        "    >>> y = ivy.min(x)\n",
        "    >>> print(y)\n",
        "    ivy.array(0)\n",
        "\n",
        "    With :class:`ivy.Container` input:\n",
        "\n",
        "    >>> x = ivy.Container(a=ivy.array([1, 2, 3]), b=ivy.array([2, 3, 4]))\n",
        "    >>> z = ivy.min(x)\n",
        "    >>> print(z)\n",
        "    {\n",
        "        a: ivy.array(1),\n",
        "        b: ivy.array(2)\n",
        "    }\n",
        "    \"\"\"\n",
        "    return ivy.current_backend(x).min(x, axis=axis, keepdims=keepdims, out=out)\n"
      ],
      "metadata": {
        "id": "vZEioiw37jM_"
      },
      "execution_count": null,
      "outputs": []
    }
  ]
}